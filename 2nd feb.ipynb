{
 "cells": [
  {
   "cell_type": "markdown",
   "id": "47024c76-e647-4ddf-a09c-b87b2114acc7",
   "metadata": {},
   "source": [
    "# Q1. What are the characteristics of the tuples? Is tuple immutable?"
   ]
  },
  {
   "cell_type": "markdown",
   "id": "67ffae3b-aa7a-494e-8628-1f77ae59fd69",
   "metadata": {},
   "source": [
    "# A tuple is a collection of ordered, immutable elements. In other words, once a tuple is created, its elements cannot be changed. The following are the characteristics of tuples: Ordered: The elements in a tuple are ordered, meaning that each element has a specific position in the tuple.Immutable: The elements in a tuple cannot be changed or modified once the tuple is createdHeterogeneous: A tuple can contain elements of different data types, such as integers, strings, lists, etc.Accessible by Index: The elements in a tuple can be accessed using their index, starting from 0.Can contain duplicates: A tuple can contain duplicate elements.Uses Parenthesis: Tuples are defined using parenthesis ().In conclusion, tuples are immutable and their elements cannot be changed after they are created. This makes tuples useful for representing data that should not be changed, such as date of birth, name, etc."
   ]
  },
  {
   "cell_type": "markdown",
   "id": "05c979fa-cb6a-4140-9763-71dcf8ee8a54",
   "metadata": {},
   "source": [
    "# Q2. What are the two tuple methods in python? Give an example of each"
   ]
  },
  {
   "cell_type": "markdown",
   "id": "32149644-674d-4618-be29-31f7b6fcb9c7",
   "metadata": {},
   "source": [
    "# There are several methods available in Python for working with tuples, but two common ones are: count() method: The count() method returns the number of times a specific element appears in the tuple. For example:"
   ]
  },
  {
   "cell_type": "code",
   "execution_count": 13,
   "id": "df618333-28a4-43e4-9a66-1070606fcfde",
   "metadata": {},
   "outputs": [
    {
     "name": "stdout",
     "output_type": "stream",
     "text": [
      "2\n"
     ]
    }
   ],
   "source": [
    "numbers = (1, 2, 3, 4, 5, 1, 2, 3)\n",
    "count_of_1 = numbers.count(1)\n",
    "print(count_of_1) \n"
   ]
  },
  {
   "cell_type": "markdown",
   "id": "a0451c55-c2e5-4cf2-bb8e-1ccabeea3ac8",
   "metadata": {},
   "source": [
    "# index() method: The index() method returns the index of the first occurrence of a specific element in the tuple. For example:"
   ]
  },
  {
   "cell_type": "code",
   "execution_count": 14,
   "id": "7a8ca123-b3a5-4bcf-bac3-62d32d94012b",
   "metadata": {},
   "outputs": [
    {
     "name": "stdout",
     "output_type": "stream",
     "text": [
      "2\n"
     ]
    }
   ],
   "source": [
    "numbers = (1, 2, 3, 4, 5, 1, 2, 3)\n",
    "index_of_3 = numbers.index(3)\n",
    "print(index_of_3) \n"
   ]
  },
  {
   "cell_type": "markdown",
   "id": "584972a6-f291-4d9a-b2c5-8c4b0a18fd44",
   "metadata": {},
   "source": [
    "# Which collection datatypes in python do not allow duplicate items? Write a code using a set to remove duplicates from the given list. List = [1, 1, 1, 2, 1, 3, 1, 4, 2, 1, 2, 2, 2, 3, 2, 4, 3, 1, 3, 2, 3, 3, 3, 4, 4, 1, 4, 2, 4, 3, 4, 4]"
   ]
  },
  {
   "cell_type": "markdown",
   "id": "45653d63-8a9d-4e53-8114-512287934e46",
   "metadata": {},
   "source": [
    "# In Python, two collection data types do not allow duplicate items: sets and frozensets."
   ]
  },
  {
   "cell_type": "code",
   "execution_count": 15,
   "id": "c3c248e2-a480-48c8-adc6-44abb07c8fad",
   "metadata": {},
   "outputs": [
    {
     "name": "stdout",
     "output_type": "stream",
     "text": [
      "[1, 2, 3, 4]\n"
     ]
    }
   ],
   "source": [
    "List = [1, 1, 1, 2, 1, 3, 1, 4, 2, 1, 2, 2, 2, 3, 2, 4, 3, 1, 3, 2, 3, 3, 3, 4, 4, 1, 4, 2, 4, 3, 4, 4]\n",
    "no_duplicates = set(List)\n",
    "no_duplicates = list(no_duplicates)\n",
    "print(no_duplicates)"
   ]
  },
  {
   "cell_type": "markdown",
   "id": "2342be42-56bd-45e5-8c70-42feed30f5df",
   "metadata": {},
   "source": [
    "# Q4. Explain the difference between the union() and update() methods for a set. Give an example of each method."
   ]
  },
  {
   "cell_type": "markdown",
   "id": "b4227cb8-23d3-4f22-8cc7-03c540e40903",
   "metadata": {},
   "source": [
    "# The union() and update() methods are used to combine two sets in Python. However, they work differently and produce different results. union() method: The union() method returns a new set that contains all the elements from both sets, without duplicates. The original sets are not modified. For example:"
   ]
  },
  {
   "cell_type": "code",
   "execution_count": 16,
   "id": "0f5d2af4-390e-4755-a4d7-e688153e1208",
   "metadata": {},
   "outputs": [
    {
     "name": "stdout",
     "output_type": "stream",
     "text": [
      "{1, 2, 3, 4, 5}\n"
     ]
    }
   ],
   "source": [
    "set1 = {1, 2, 3}\n",
    "set2 = {3, 4, 5}\n",
    "set3 = set1.union(set2)\n",
    "print(set3) \n"
   ]
  },
  {
   "cell_type": "markdown",
   "id": "017f2624-9164-49e2-a511-320ee62978e6",
   "metadata": {},
   "source": [
    "# update() method: The update() method adds all the elements from one set to another set. The original set is modified. For example:"
   ]
  },
  {
   "cell_type": "code",
   "execution_count": 17,
   "id": "8860aa0f-4b5d-4430-ad71-dfcc58438fe9",
   "metadata": {},
   "outputs": [
    {
     "name": "stdout",
     "output_type": "stream",
     "text": [
      "{1, 2, 3, 4, 5}\n"
     ]
    }
   ],
   "source": [
    "set1 = {1, 2, 3}\n",
    "set2 = {3, 4, 5}\n",
    "set1.update(set2)\n",
    "print(set1) "
   ]
  },
  {
   "cell_type": "markdown",
   "id": "f8157681-a0e1-4b2e-94b7-6227af635fe4",
   "metadata": {},
   "source": [
    "# Q5. What is a dictionary? Give an example. Also, state whether a dictionary is ordered or unordered."
   ]
  },
  {
   "cell_type": "markdown",
   "id": "4d2b7758-7597-4f00-ad29-1dfaca033797",
   "metadata": {},
   "source": [
    "# A dictionary in Python is an unordered collection of key-value pairs. The keys are used to identify the values, and each key maps to a single value. Dictionaries are also known as associative arrays or hash maps in other programming languages.\n",
    "\n",
    "# A dictionary is defined using curly braces {} and the key-value pairs are separated by a colon :"
   ]
  },
  {
   "cell_type": "code",
   "execution_count": 19,
   "id": "da1e31ed-f015-4692-967c-b2856303ca0b",
   "metadata": {},
   "outputs": [
    {
     "name": "stdout",
     "output_type": "stream",
     "text": [
      "DEB\n",
      "25\n",
      "India\n"
     ]
    }
   ],
   "source": [
    "person = {'name': 'DEB', 'age': 25, 'country': 'India'}\n",
    "print(person['name'])\n",
    "print(person['age']) \n",
    "print(person['country'])\n"
   ]
  },
  {
   "cell_type": "markdown",
   "id": "1f031f42-65e1-42a8-9a72-d01f5de84da3",
   "metadata": {},
   "source": [
    "# A dictionary in Python is unordered. This means that the elements in a dictionary are not stored in any particular order, and the order may change when elements are added or removed from the dictionary."
   ]
  },
  {
   "cell_type": "markdown",
   "id": "76760292-3555-4182-88f4-8e7beaee0c90",
   "metadata": {},
   "source": [
    "# Q6. Can we create a nested dictionary? If so, please give an example by creating a simple one-level nested dictionary."
   ]
  },
  {
   "cell_type": "markdown",
   "id": "7e147375-3bd8-4a15-bdac-900963b2f84e",
   "metadata": {},
   "source": [
    "# Yes, we can create a nested dictionary in Python. A nested dictionary is simply a dictionary that contains one or more dictionaries as values."
   ]
  },
  {
   "cell_type": "code",
   "execution_count": 25,
   "id": "ff4e8a42-890d-4529-9ee5-6f39eb7aa597",
   "metadata": {},
   "outputs": [
    {
     "name": "stdout",
     "output_type": "stream",
     "text": [
      "India\n",
      "25\n"
     ]
    }
   ],
   "source": [
    "person = {'name': \"DEB\", 'details': {'age' : 25 , 'country' : \"India\"}}    \n",
    "print (person['details']['country'])\n",
    "print(person['details']['age'])"
   ]
  },
  {
   "cell_type": "markdown",
   "id": "edb320f2-ad11-4b83-ba07-257b7bf36664",
   "metadata": {},
   "source": [
    "# Q7. Using setdefault() method, create key named topics in the given dictionary and also add the value of the key as this list ['Python', 'Machine Learning’, 'Deep Learning']"
   ]
  },
  {
   "cell_type": "code",
   "execution_count": 27,
   "id": "06cb62e8-2ff0-451f-8476-3d84ce848df7",
   "metadata": {},
   "outputs": [
    {
     "name": "stdout",
     "output_type": "stream",
     "text": [
      "{'name': 'DEB', 'details': {'age': 25, 'country': 'India'}, 'topics': ['Python', 'Machine Learning', 'Deep Learning']}\n"
     ]
    }
   ],
   "source": [
    "person = {'name': \"DEB\", 'details': {'age' : 25 , 'country' : \"India\"}} \n",
    "person.setdefault ( 'topics',['Python', 'Machine Learning', 'Deep Learning'])\n",
    "print(person)"
   ]
  },
  {
   "cell_type": "markdown",
   "id": "9cff5eaa-37dc-4fc5-a915-a27e02088a9e",
   "metadata": {},
   "source": [
    "# Q8. What are the three view objects in dictionaries? Use the three in-built methods in python to display these three view objects for the given dictionary. dict1 = {'Sport': 'Cricket' , 'Teams': ['India', 'Australia', 'England', 'South Africa', 'Sri Lanka', 'New Zealand']}"
   ]
  },
  {
   "cell_type": "markdown",
   "id": "57ec31b8-5d74-404c-973e-f62e51758155",
   "metadata": {},
   "source": [
    "# In Python, dictionaries have three view objects that allow you to view the keys, values, or items (both keys and values) of the dictionary:\n",
    "\n",
    "# keys(): Returns a view object that displays a list of all the keys in the dictionary. The view object is dynamic, meaning that if the dictionary changes, the view will also change. "
   ]
  },
  {
   "cell_type": "markdown",
   "id": "e1628d62-1e06-434a-a56d-57c4aca79bda",
   "metadata": {},
   "source": [
    "# values(): Returns a view object that displays a list of all the values in the dictionary. Like the keys() view, the values() view is dynamic and updates if the dictionary changes."
   ]
  },
  {
   "cell_type": "markdown",
   "id": "8c6821e1-35e7-4901-ac95-749dc2bc3379",
   "metadata": {},
   "source": [
    "# items(): Returns a view object that displays a list of all the items (key-value pairs) in the dictionary. The items() view is also dynamic and updates if the dictionary changes. "
   ]
  },
  {
   "cell_type": "code",
   "execution_count": 31,
   "id": "dc89bf06-ef0f-44a7-b44a-487c9306d9c1",
   "metadata": {},
   "outputs": [
    {
     "name": "stdout",
     "output_type": "stream",
     "text": [
      "dict_keys(['Sport', 'Teams'])\n"
     ]
    }
   ],
   "source": [
    "dict1 = {'Sport': 'Cricket' , 'Teams': ['India', 'Australia', 'England', 'South Africa', 'Sri Lanka', 'New Zealand']}\n",
    "keys = dict1.keys()\n",
    "print(keys)"
   ]
  },
  {
   "cell_type": "code",
   "execution_count": 33,
   "id": "c40ff576-be82-4e80-8ec9-4426111c07da",
   "metadata": {},
   "outputs": [
    {
     "name": "stdout",
     "output_type": "stream",
     "text": [
      "dict_values(['Cricket', ['India', 'Australia', 'England', 'South Africa', 'Sri Lanka', 'New Zealand']])\n"
     ]
    }
   ],
   "source": [
    "values = dict1.values()\n",
    "print(values)"
   ]
  },
  {
   "cell_type": "code",
   "execution_count": null,
   "id": "d33900c4-4a0e-452a-882c-b1ba5192d003",
   "metadata": {},
   "outputs": [],
   "source": [
    "items = dict1.ite"
   ]
  }
 ],
 "metadata": {
  "kernelspec": {
   "display_name": "Python 3 (ipykernel)",
   "language": "python",
   "name": "python3"
  },
  "language_info": {
   "codemirror_mode": {
    "name": "ipython",
    "version": 3
   },
   "file_extension": ".py",
   "mimetype": "text/x-python",
   "name": "python",
   "nbconvert_exporter": "python",
   "pygments_lexer": "ipython3",
   "version": "3.10.8"
  }
 },
 "nbformat": 4,
 "nbformat_minor": 5
}
